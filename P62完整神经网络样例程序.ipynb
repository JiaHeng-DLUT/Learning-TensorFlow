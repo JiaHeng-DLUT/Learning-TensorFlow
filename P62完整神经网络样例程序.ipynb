{
 "cells": [
  {
   "cell_type": "code",
   "execution_count": 1,
   "metadata": {},
   "outputs": [],
   "source": [
    "import sys\n",
    "import tensorflow as tf\n",
    "from numpy.random import RandomState"
   ]
  },
  {
   "cell_type": "code",
   "execution_count": 2,
   "metadata": {},
   "outputs": [],
   "source": [
    "batch_size = 8"
   ]
  },
  {
   "cell_type": "code",
   "execution_count": 3,
   "metadata": {},
   "outputs": [],
   "source": [
    "w1 = tf.Variable(tf.random_normal((2, 3), stddev=1, seed=1))\n",
    "w2 = tf.Variable(tf.random_normal((3, 1), stddev=1, seed=1))"
   ]
  },
  {
   "cell_type": "code",
   "execution_count": 4,
   "metadata": {},
   "outputs": [],
   "source": [
    "# 在 shape 的一个维度上使用 None 可以方便使用不同的 batch_size。\n",
    "# 在训练时需要把数据分成比较小的 batch，但是在测试时，可以一次性使用全部的数据。\n",
    "# 当数据集比较小时方便测试，但数据集比较大时，将大量数据放入一个 batch 可能会导致内存溢出。\n",
    "x = tf.placeholder(tf.float32, shape=(None, 2), name=\"x-input\")\n",
    "y_ = tf.placeholder(tf.float32, shape=(None, 1), name=\"y-input\")"
   ]
  },
  {
   "cell_type": "code",
   "execution_count": 5,
   "metadata": {},
   "outputs": [],
   "source": [
    "y =  tf.matmul(tf.matmul(x, w1), w2)"
   ]
  },
  {
   "cell_type": "code",
   "execution_count": 6,
   "metadata": {},
   "outputs": [],
   "source": [
    "y = tf.sigmoid(y)\n",
    "# y: probability of positive samples\n",
    "# 1-y: probability of negative samples"
   ]
  },
  {
   "cell_type": "markdown",
   "metadata": {},
   "source": [
    "**什么是交叉熵？**\n",
    "\n",
    "- 交叉熵（cross entropy）刻画了两个概率分布之间的距离，是分类问题中使用较多的一种损失函数。\n",
    "- 公式：$H(p,q)=-\\sum\\limits_{x}p(x)\\log{q(x)}$\n",
    "\n",
    "**三分类问题的例子**\n",
    "\n",
    "- 某个样例的正确答案是：(1,0,0)\n",
    "\n",
    "- 某模型的预测答案是：(0.5,0.4,0.1)\n",
    "  - 交叉熵 $H((1,0,0),(0.5,0.4,0.1))=-(1*\\log{0.5}+0*\\log{0.4}+0*\\log{0.1})=\\log{2}\\approx0.3$\n",
    "- 另一个模型的预测是：(0.8,0.1,0.1)\n",
    "  - 交叉熵 $H((1,0,0),(0.8,0.1,0.1))=-(1*\\log{0.8}+0*\\log{0.1}+0*\\log{0.1})=\\log{1.25}\\approx0.1$\n",
    "\n",
    "- 可以得出第二个预测答案要优于第一个。用矩阵来表达，则为：$q=\\begin{bmatrix}0.5&0.2&0.3\\\\0.8&0.1&0.1\\end{bmatrix}\\\\p=\\begin{bmatrix}1&0&0\\\\1&0&0\\end{bmatrix}\\\\H(p,q)=\\begin{bmatrix}0.3\\\\0.1\\end{bmatrix}$"
   ]
  },
  {
   "cell_type": "code",
   "execution_count": 7,
   "metadata": {},
   "outputs": [],
   "source": [
    "# 其中 y_ 代表正确结果，y 代表预测结果。\n",
    "# 通过 tf.clip_by_value 函数可以将一个张量的数值限制在一个范围，如 (1e-10, 1.0) 内，可以避免一些错误例如 log0。\n",
    "# 对于每一个样例中的每一个类别交叉熵 p(x)logq(x) 的计算，得到了一个n*m的二维矩阵，n为 batch 中样例的数量，m 为分类的类别数。\n",
    "# tf.reduce_mean 对这 n 行取平均得到一个 batch 的平均交叉熵。比如前面那个三分类的例子，batch_size = 2，平均后为 0.2\n",
    "cross_entropy = -tf.reduce_mean(y_ * tf.log(tf.clip_by_value(y, 1e-10, 1.0)) + (1-y_) * tf.log(tf.clip_by_value((1-y), 1e-10, 1.0)))"
   ]
  },
  {
   "cell_type": "code",
   "execution_count": 8,
   "metadata": {},
   "outputs": [],
   "source": [
    "learning_rate = 0.001"
   ]
  },
  {
   "cell_type": "code",
   "execution_count": 9,
   "metadata": {
    "scrolled": true
   },
   "outputs": [
    {
     "name": "stdout",
     "output_type": "stream",
     "text": [
      "WARNING:tensorflow:From C:\\Users\\51527\\Anaconda3\\envs\\tensorflow\\lib\\site-packages\\tensorflow\\python\\ops\\math_grad.py:1250: add_dispatch_support.<locals>.wrapper (from tensorflow.python.ops.array_ops) is deprecated and will be removed in a future version.\n",
      "Instructions for updating:\n",
      "Use tf.where in 2.0, which has the same broadcast rule as np.where\n"
     ]
    }
   ],
   "source": [
    "train_step = tf.train.AdamOptimizer(learning_rate).minimize(cross_entropy)"
   ]
  },
  {
   "cell_type": "code",
   "execution_count": 10,
   "metadata": {},
   "outputs": [],
   "source": [
    "# 通过随机数生成一个模拟数据集\n",
    "rdm = RandomState(1)\n",
    "dataset_size = 128\n",
    "X = rdm.rand(dataset_size, 2)\n",
    "# 定义规则来给出样本的标签\n",
    "# x1+x2<1 positive\n",
    "# otherwise negative\n",
    "# 和 TensorFlow 游乐场中的表示法不大一样的地方是，在这里使用 0 表示负样本，1 表示正样本。\n",
    "# 大部分解决分类问题的神经网络都会采用 0 和 1 的表示方法\n",
    "Y = [[int(x1+x2 < 1)] for (x1, x2) in X]"
   ]
  },
  {
   "cell_type": "code",
   "execution_count": 11,
   "metadata": {},
   "outputs": [
    {
     "name": "stdout",
     "output_type": "stream",
     "text": [
      "[[-0.8113182   1.4845988   0.06532937]\n",
      " [-2.4427042   0.0992484   0.5912243 ]]\n",
      "[[-0.8113182 ]\n",
      " [ 1.4845988 ]\n",
      " [ 0.06532937]]\n",
      "After 0 training step(s), cross entropy on all data is 1.89805\n",
      "After 1000 training step(s), cross entropy on all data is 0.655075\n",
      "After 2000 training step(s), cross entropy on all data is 0.626172\n",
      "After 3000 training step(s), cross entropy on all data is 0.615096\n",
      "After 4000 training step(s), cross entropy on all data is 0.610309\n",
      "[[ 0.02476976  0.56948674  1.6921943 ]\n",
      " [-2.1977348  -0.23668915  1.1143894 ]]\n",
      "[[-0.4554469 ]\n",
      " [ 0.49110925]\n",
      " [-0.9811033 ]]\n"
     ]
    }
   ],
   "source": [
    "with tf.Session() as sess:\n",
    "    \n",
    "    sess.run(tf.global_variables_initializer())\n",
    "    \n",
    "    print(sess.run(w1))\n",
    "    print(sess.run(w2))\n",
    "    \n",
    "    STEPS = 5000\n",
    "    for i in range(STEPS):\n",
    "        start = (i * batch_size) % dataset_size\n",
    "        end = min(start + batch_size, dataset_size)\n",
    "        \n",
    "        sess.run(train_step, feed_dict={x:X[start:end], y_:Y[start:end]})\n",
    "        \n",
    "        if i %1000 == 0:\n",
    "            total_cross_entropy = sess.run(cross_entropy, feed_dict={x:X, y_:Y})\n",
    "            print(\"After %d training step(s), cross entropy on all data is %g\" % (i, total_cross_entropy))\n",
    "    \n",
    "    print(sess.run(w1))\n",
    "    print(sess.run(w2))"
   ]
  }
 ],
 "metadata": {
  "kernelspec": {
   "display_name": "Python 3",
   "language": "python",
   "name": "python3"
  },
  "language_info": {
   "codemirror_mode": {
    "name": "ipython",
    "version": 3
   },
   "file_extension": ".py",
   "mimetype": "text/x-python",
   "name": "python",
   "nbconvert_exporter": "python",
   "pygments_lexer": "ipython3",
   "version": "3.7.6"
  }
 },
 "nbformat": 4,
 "nbformat_minor": 2
}
